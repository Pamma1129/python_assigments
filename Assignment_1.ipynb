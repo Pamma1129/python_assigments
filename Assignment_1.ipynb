{
 "cells": [
  {
   "cell_type": "markdown",
   "metadata": {},
   "source": [
    "### Questions "
   ]
  },
  {
   "cell_type": "markdown",
   "metadata": {},
   "source": [
    "## 1. In the below elements which of them are values or an expression? e.g.: - values can be integer or string and expressions will be mathematical operators.\n",
    "1. *       -> expressions\n",
    "2. 'hello' -> values\n",
    "3. -87.8   -> values\n",
    "4. -       -> expressions\n",
    "5. /       -> expressions\n",
    "6. +       -> expressions\n",
    "7. 6       -> values"
   ]
  },
  {
   "cell_type": "markdown",
   "metadata": {},
   "source": [
    "## 2. What is the difference between string and variable?\n",
    "- string -> string represents sequence of characters, python do have 'str' data type which are widely used for string.\n",
    "- variable -> variable implies place holder of values, which we can refer later in program"
   ]
  },
  {
   "cell_type": "markdown",
   "metadata": {},
   "source": [
    "## 3. Describe three different data types.\n",
    "- Three diff data types are int, str, bool "
   ]
  },
  {
   "cell_type": "markdown",
   "metadata": {},
   "source": [
    "## 4. What is an expression made up of ? What do all expressions do ?\n",
    "- Expressions made up of operands and operators.\n",
    "- Expressions helps in producing desired outcome by emiting values"
   ]
  },
  {
   "cell_type": "markdown",
   "metadata": {},
   "source": [
    "## 5. This assignment statements, like spam = 10. What is the difference between an expression and a statement?\n",
    "- Here '=' is an assignent expressions which assigning value to the right to variable to left of it. \n",
    "- statement is combinatiion of values, expressions and variables all together."
   ]
  },
  {
   "cell_type": "markdown",
   "metadata": {},
   "source": [
    "## 6. After running the following code, what does the variable bacon contain?\n",
    "- bacon = 22\n",
    "- bacon + 1\n",
    "\n",
    "- bcon -> 23 "
   ]
  },
  {
   "cell_type": "markdown",
   "metadata": {},
   "source": [
    "## 7. What should the values of the following two terms be?\n",
    "- 'spam' + 'spamspam'\n",
    "- 'spam' * 3\n",
    "\n",
    "-> both will be 'spamspamspam'"
   ]
  },
  {
   "cell_type": "markdown",
   "metadata": {},
   "source": [
    "## 8. Why is eggs a valid variable name while 100 is invalid?\n",
    "- eggs is valid variable name because variable name can be alphanumeric and can start with letter or _\n",
    "- 100  is invalid because as per python variable name rules, variable name can not start with Number."
   ]
  },
  {
   "cell_type": "markdown",
   "metadata": {},
   "source": [
    "## 9. What three functions can be used to get the integer, floating-point number, or string version of a value ? \n",
    "- int()   -> to convert/ type cast the value to integer type.\n",
    "- float() -> to convert/ type cast the value to float type.\n",
    "- str()   -> to convert/ type cast the value to string type.   "
   ]
  },
  {
   "cell_type": "markdown",
   "metadata": {},
   "source": [
    "\n",
    "## 10. Why does this expression cause an error? How can you fix it?\n",
    "- 'I have eaten ' + 99 + ' burritos.'\n",
    "\n",
    "- This expression cause error as we are trying to concatenate string with non string.\n",
    "- we can convert/ type cast to interger value to str which will solve the issue as below. \n",
    "- 'I have eaten ' + str(99) + ' burritos.'\n"
   ]
  }
 ],
 "metadata": {
  "interpreter": {
   "hash": "ad4e3e7b589f698d88de12fd16bb587e61cae7b1dfce23d825e132f8c8d29c64"
  },
  "kernelspec": {
   "display_name": "Python 3.9.7 (conda)",
   "language": "python",
   "name": "python3"
  },
  "language_info": {
   "codemirror_mode": {
    "name": "ipython",
    "version": 3
   },
   "file_extension": ".py",
   "mimetype": "text/x-python",
   "name": "python",
   "nbconvert_exporter": "python",
   "pygments_lexer": "ipython3",
   "version": "3.9.7"
  },
  "orig_nbformat": 4
 },
 "nbformat": 4,
 "nbformat_minor": 2
}
