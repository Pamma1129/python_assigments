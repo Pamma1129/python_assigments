{
 "cells": [
  {
   "cell_type": "code",
   "execution_count": 1,
   "metadata": {},
   "outputs": [],
   "source": [
    "# 1.What are the two values of the Boolean data type? How do you write them?\n",
    "#   Boolean data type has 2 values True and False \n",
    "#   bool_true = True \n",
    "#   bool_false = False "
   ]
  },
  {
   "cell_type": "code",
   "execution_count": 3,
   "metadata": {},
   "outputs": [],
   "source": [
    "# 2. What are the three different types of Boolean operators ? \n",
    "#    -> AND , OR and NOT "
   ]
  },
  {
   "cell_type": "code",
   "execution_count": 4,
   "metadata": {},
   "outputs": [],
   "source": [
    "# 3. Make a list of each Boolean operator's truth tables \n",
    "# (i.e. every possible combination of Boolean values for the operator and what it evaluate).\n",
    "\n",
    "# For AND boolean operators\n",
    "# True AND True -> True\n",
    "# True AND False -> False \n",
    "# False AND True -> False \n",
    "# False and False -> False \n",
    "\n",
    "# For OR \n",
    "# True OR True -> True\n",
    "# True OR False -> True \n",
    "# False OR True -> True \n",
    "# False OR False -> False\n",
    "\n",
    "# For NOT \n",
    "# NOT True -> False \n",
    "# NOT False -> True \n"
   ]
  },
  {
   "cell_type": "code",
   "execution_count": 8,
   "metadata": {},
   "outputs": [],
   "source": [
    "# 4. What are the values of the following expressions?\n",
    "# (5 > 4) and (3 == 5)                   -> False\n",
    "# not (5 > 4)                            -> False\n",
    "# (5 > 4) or (3 == 5)                    -> True\n",
    "# not ((5 > 4) or (3 == 5))              -> False\n",
    "# (True and True) and (True == False)    -> False\n",
    "# (not False) or (not True)              -> True "
   ]
  },
  {
   "cell_type": "code",
   "execution_count": 9,
   "metadata": {},
   "outputs": [],
   "source": [
    "# 5. What are the six comparison operators ?\n",
    "# a. Not Equal to -> !=\n",
    "# b. Equal to     -> ==\n",
    "# c. Less than    -> <\n",
    "# d. Greater than -> >\n",
    "# e. Less than Equal to -> <=\n",
    "# f. Greater than Equal to -> >=\n"
   ]
  },
  {
   "cell_type": "code",
   "execution_count": null,
   "metadata": {},
   "outputs": [],
   "source": [
    "# 6. How do you tell the difference between the equal to and assignment operators? Describe a condition and when you would use one.\n",
    "# Equal to operator represented as double equal  '==' but assignment operator as single equal '='.\n",
    "# Code Example -> \n",
    "# var1 = 10 -> This is assignment operator which assignuing value of 10 to var1\n",
    "# var2 = 20 -> This is assignment operator which assignuing value of 20 to var2\n",
    "# if(var1 == var2) -> This is equal to operartor which implies it will result into true if it holds true otherwise false\n",
    "# in the above if statement , it's clear that var1 is not equal to var2 , Hence it will result into False."
   ]
  },
  {
   "cell_type": "code",
   "execution_count": 10,
   "metadata": {},
   "outputs": [],
   "source": [
    "# 7. Identify the three blocks in this code:\n",
    "# spam = 0 -> this is assignment block \n",
    "# if spam == 10:\n",
    "#    print('eggs')\n",
    "# this is if block in this code which will get performed if spam == 10\n",
    "# if spam > 5:\n",
    "#    print('bacon')\n",
    "# this is if block in code which will get performed if spam > 5\n",
    "# else:\n",
    "#    print('ham')\n",
    "# this is else block within the code which will get executed if 2nd if block fail to satify the condition.\n",
    "# print('spam')\n",
    "# print('spam')"
   ]
  },
  {
   "cell_type": "code",
   "execution_count": 11,
   "metadata": {},
   "outputs": [],
   "source": [
    "# 8. Write code that prints Hello if 1 is stored in spam, prints Howdy if 2 is stored in spam, \n",
    "# and prints Greetings! if anything else is stored in spam.\n",
    "# if spam == 1:\n",
    "#    print('Hello')\n",
    "# elif spam == 2:\n",
    "#    print('Howdy')\n",
    "# else:\n",
    "#    print('Greetings!') "
   ]
  },
  {
   "cell_type": "code",
   "execution_count": 12,
   "metadata": {},
   "outputs": [],
   "source": [
    "# 9.If your programme is stuck in an endless loop, what keys you’ll press?\n",
    "# Ctrl + Alt "
   ]
  },
  {
   "cell_type": "code",
   "execution_count": 13,
   "metadata": {},
   "outputs": [],
   "source": [
    "# 10. How can you tell the difference between break and continue?\n",
    "# if we encounter 'break' statement within the loop which implies executiion break out of the loop irrespective of loop break condition gets satisfies ot not. \n",
    "# if we encounter 'continue' statement with the loop which implies continue with the next iteration of the current running loop."
   ]
  },
  {
   "cell_type": "code",
   "execution_count": 17,
   "metadata": {},
   "outputs": [],
   "source": [
    "# 11. In a for loop, what is the difference between range(10), range(0, 10), and range(0, 10, 1)?\n",
    "# range(10) -> implies loop will by default start with 0 which is not explicitly specify in range function and ends at 10 - 1 = 9\n",
    "# range(0, 10) -> implies loop will by start with 0 and ends at 10 - 1 = 9\n",
    "# range(0,10,1) -> implies loop will by default start with 0 and ends at 10 - 1 = 9 with step size of 1. \n",
    "# Note start of range function can be optional if not provided then 0 will be default start of for loop\n",
    "# step size , 3rd parameter to range() function -> can be optional if not provided then 1 will be default step size of for loop."
   ]
  },
  {
   "cell_type": "code",
   "execution_count": 19,
   "metadata": {},
   "outputs": [
    {
     "name": "stdout",
     "output_type": "stream",
     "text": [
      "0\n",
      "1\n",
      "2\n",
      "3\n",
      "4\n",
      "5\n",
      "6\n",
      "7\n",
      "8\n",
      "9\n",
      "1\n",
      "2\n",
      "3\n",
      "4\n",
      "5\n",
      "6\n",
      "7\n",
      "8\n",
      "9\n",
      "10\n"
     ]
    }
   ],
   "source": [
    "# 12. Write a short program that prints the numbers 1 to 10 using a for loop. \n",
    "# Then write an equivalent program that prints the numbers 1 to 10 using a while loop.\n",
    "# for loop ->\n",
    "for i in range(0,10):\n",
    "    print(i)\n",
    "# while loop\n",
    "start = 1\n",
    "while( start <= 10):\n",
    "    print(start)\n",
    "    start += 1"
   ]
  },
  {
   "cell_type": "code",
   "execution_count": 21,
   "metadata": {},
   "outputs": [
    {
     "data": {
      "text/plain": [
       "50"
      ]
     },
     "execution_count": 21,
     "metadata": {},
     "output_type": "execute_result"
    }
   ],
   "source": [
    "# 13. If you had a function named bacon() inside a module named spam, how would you call it after importing spam?\n",
    "# spam.bacon()\n",
    "# Eg -> import math  -> Here floor() is a function inside math module, so to call it we need to say math.floor()\n",
    "import math\n",
    "var1 = math.floor(101/2)\n",
    "var1 "
   ]
  },
  {
   "cell_type": "code",
   "execution_count": null,
   "metadata": {},
   "outputs": [],
   "source": []
  }
 ],
 "metadata": {
  "interpreter": {
   "hash": "ad4e3e7b589f698d88de12fd16bb587e61cae7b1dfce23d825e132f8c8d29c64"
  },
  "kernelspec": {
   "display_name": "Python 3.9.7 (conda)",
   "language": "python",
   "name": "python3"
  },
  "language_info": {
   "codemirror_mode": {
    "name": "ipython",
    "version": 3
   },
   "file_extension": ".py",
   "mimetype": "text/x-python",
   "name": "python",
   "nbconvert_exporter": "python",
   "pygments_lexer": "ipython3",
   "version": "3.9.7"
  },
  "orig_nbformat": 4
 },
 "nbformat": 4,
 "nbformat_minor": 2
}
