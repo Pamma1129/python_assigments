{
 "cells": [
  {
   "cell_type": "code",
   "execution_count": 1,
   "metadata": {},
   "outputs": [],
   "source": [
    "# 1. What exactly is []?\n",
    "# this notifiies empty list in python"
   ]
  },
  {
   "cell_type": "code",
   "execution_count": 2,
   "metadata": {},
   "outputs": [
    {
     "data": {
      "text/plain": [
       "[2, 4, 'hello', 8, 10]"
      ]
     },
     "execution_count": 2,
     "metadata": {},
     "output_type": "execute_result"
    }
   ],
   "source": [
    "# 2. In a list of values stored in a variable called spam, \n",
    "# how would you assign the value 'hello' as the third value? (Assume [2, 4, 6, 8, 10] are in spam.)\n",
    "list = [2, 4, 6, 8 ,10]\n",
    "list[2] = 'hello'\n",
    "list "
   ]
  },
  {
   "cell_type": "code",
   "execution_count": 3,
   "metadata": {},
   "outputs": [],
   "source": [
    "spam = ['a', 'b', 'c', 'd'] "
   ]
  },
  {
   "cell_type": "code",
   "execution_count": 5,
   "metadata": {},
   "outputs": [
    {
     "data": {
      "text/plain": [
       "'d'"
      ]
     },
     "execution_count": 5,
     "metadata": {},
     "output_type": "execute_result"
    }
   ],
   "source": [
    "# 3. What is the value of spam[int(int('3' * 2) / 11)]?\n",
    "# spam[int(int('3' * 2) / 11)] -> 'd'\n",
    "# int(int('3' * 2) / 11) -> result into 3 Hence spam[3] -> 'd'"
   ]
  },
  {
   "cell_type": "code",
   "execution_count": 7,
   "metadata": {},
   "outputs": [
    {
     "data": {
      "text/plain": [
       "'d'"
      ]
     },
     "execution_count": 7,
     "metadata": {},
     "output_type": "execute_result"
    }
   ],
   "source": [
    "# 4. What is the value of spam[-1]?\n",
    "# spam[-1] -> 'd' # last value of the list or 1st value if we read the list from tail side  "
   ]
  },
  {
   "cell_type": "code",
   "execution_count": 8,
   "metadata": {},
   "outputs": [
    {
     "data": {
      "text/plain": [
       "'c'"
      ]
     },
     "execution_count": 8,
     "metadata": {},
     "output_type": "execute_result"
    }
   ],
   "source": [
    "# 5. What is the value of spam[:2]?\n",
    "# spam[-2] -> 'c'   # 2nd value from tail side "
   ]
  },
  {
   "cell_type": "code",
   "execution_count": 9,
   "metadata": {},
   "outputs": [],
   "source": [
    "bacon = [3.14, 'cat', 11, 'cat', True]"
   ]
  },
  {
   "cell_type": "code",
   "execution_count": 11,
   "metadata": {},
   "outputs": [],
   "source": [
    "# 6. What is the value of bacon.index('cat')?\n",
    "# bacon.index('cat') -> 1  # it return index of  first occurence of'cat' in bacon list which is 1"
   ]
  },
  {
   "cell_type": "code",
   "execution_count": 12,
   "metadata": {},
   "outputs": [],
   "source": [
    "# 7. How does bacon.append(99) change the look of the list value in bacon?\n",
    "# bacon.append(99) # 99 will get added at last element to the list bacon"
   ]
  },
  {
   "cell_type": "code",
   "execution_count": 13,
   "metadata": {},
   "outputs": [
    {
     "data": {
      "text/plain": [
       "[3.14, 'cat', 11, 'cat', True, 99]"
      ]
     },
     "execution_count": 13,
     "metadata": {},
     "output_type": "execute_result"
    }
   ],
   "source": [
    "bacon"
   ]
  },
  {
   "cell_type": "code",
   "execution_count": 14,
   "metadata": {},
   "outputs": [],
   "source": [
    "# 8. How does bacon.remove('cat') change the look of the list in bacon?\n",
    "# bacon.remove('cat') -> it will remove first occurence of element 'cat' from list "
   ]
  },
  {
   "cell_type": "code",
   "execution_count": 15,
   "metadata": {},
   "outputs": [
    {
     "data": {
      "text/plain": [
       "[3.14, 11, 'cat', True, 99]"
      ]
     },
     "execution_count": 15,
     "metadata": {},
     "output_type": "execute_result"
    }
   ],
   "source": [
    "bacon"
   ]
  },
  {
   "cell_type": "code",
   "execution_count": 17,
   "metadata": {},
   "outputs": [
    {
     "data": {
      "text/plain": [
       "[3.14, 11, 'cat', True, 99, 3.14, 11, 'cat', True, 99]"
      ]
     },
     "execution_count": 17,
     "metadata": {},
     "output_type": "execute_result"
    }
   ],
   "source": [
    "# 9. What are the list concatenation and list replication operators ?\n",
    "# list concatenation operator '+' \n",
    "new_list = spam + bacon\n",
    "new_list \n",
    "# list replication operator '*'\n",
    "new_bacon_list = bacon * 2\n",
    "new_bacon_list"
   ]
  },
  {
   "cell_type": "code",
   "execution_count": 25,
   "metadata": {},
   "outputs": [],
   "source": [
    "# 10. What is difference between the list methods append() and insert()?\n",
    "# example ->\n",
    "# bacon.insert(0,12)  # insert() method let you add new element in the list based on index provided \n",
    "# bacon.append(22)    # append() method let you add new value at end of the list  "
   ]
  },
  {
   "cell_type": "code",
   "execution_count": 34,
   "metadata": {},
   "outputs": [],
   "source": [
    "# 11. What are the two methods for removing items from a list?\n",
    "# bacon.remove(12) # remove() allows you to remove element from list \n",
    "# del bacon[0] # del list also let you remove elements from list "
   ]
  },
  {
   "cell_type": "code",
   "execution_count": 38,
   "metadata": {},
   "outputs": [
    {
     "name": "stdout",
     "output_type": "stream",
     "text": [
      "H\n",
      "H\n"
     ]
    }
   ],
   "source": [
    "# 12. Describe how list values and string values are identical.\n",
    "# Let's take an example ->\n",
    "# if we will store a list with characters  as below \n",
    "character_list = ['H', 'e', 'l', 'l', 'o']\n",
    "string = 'Hello'\n",
    "# though both looks diff but can identical properties such as\n",
    "# we can perform indexing on string and list both as below \n",
    "print(character_list[0])\n",
    "print(string[0])\n",
    "# we can perform slicing opertaions on list as well as string \n",
    "# we can run loop to print each and every characters from string same as we can run loop to print each and every element of the list \n",
    "# most of operations works same on string and list \n",
    "# list and string both can perform concatenation with operator '+'\n",
    "# list and string both can perform replication with operator '*'"
   ]
  },
  {
   "cell_type": "code",
   "execution_count": 39,
   "metadata": {},
   "outputs": [],
   "source": [
    "# 13. What's the difference between tuples and lists?\n",
    "# tuples can be represented as '()' and list as '[]'\n",
    "# tupes are immutable data type and list are mutable data type \n"
   ]
  },
  {
   "cell_type": "code",
   "execution_count": 40,
   "metadata": {},
   "outputs": [],
   "source": [
    "# 14. How do you type a tuple value that only contains the integer 42?\n",
    "tuple_42 = (42)"
   ]
  },
  {
   "cell_type": "code",
   "execution_count": 47,
   "metadata": {},
   "outputs": [
    {
     "data": {
      "text/plain": [
       "[2, 'cat', True, 99, 22]"
      ]
     },
     "execution_count": 47,
     "metadata": {},
     "output_type": "execute_result"
    }
   ],
   "source": [
    "# 15. How do you get a list value's tuple form? How do you get a tuple value's list form?\n",
    "# to get tuple from list : tuple()\n",
    "bacon_tuple = tuple(bacon)\n",
    "bacon_tuple\n",
    "# to get list from tuple : list()\n",
    "bacon_list = [*bacon_tuple] # this way we can get list out of tuple form\n",
    "bacon_list"
   ]
  },
  {
   "cell_type": "code",
   "execution_count": 49,
   "metadata": {},
   "outputs": [],
   "source": [
    "# 16. Variables that \"contain\" list values are not necessarily lists themselves. Instead, what do they contain?\n",
    "# they will contain references to the list values "
   ]
  },
  {
   "cell_type": "code",
   "execution_count": 55,
   "metadata": {},
   "outputs": [
    {
     "name": "stdout",
     "output_type": "stream",
     "text": [
      "[2, 'cat', True, 99, 999]\n",
      "[2, 'cat', True, 99, 22]\n"
     ]
    }
   ],
   "source": [
    "# 17. How do you distinguish between copy. Copy() and copy.deepcopy()?\n",
    "from copy import copy, deepcopy\n",
    "bacon_shallow = copy(bacon) # It's shallow copy as it just create new ref as bacon_shallow to original list bacon, if we change bacon_shallow\n",
    "# then real list will also gets changed\n",
    "bacon_shallow[-1] = 99\n",
    "bacon_shallow\n",
    "bacon_deep = deepcopy(bacon_list) # it will create new ref with copying existing elements, it can be termed as real copy. changed the copied\n",
    "# version wont effect the original list \n",
    "bacon_deep[-1] = 999\n",
    "print(bacon_deep)\n",
    "print(bacon_list)"
   ]
  },
  {
   "cell_type": "code",
   "execution_count": null,
   "metadata": {},
   "outputs": [],
   "source": []
  }
 ],
 "metadata": {
  "interpreter": {
   "hash": "ad4e3e7b589f698d88de12fd16bb587e61cae7b1dfce23d825e132f8c8d29c64"
  },
  "kernelspec": {
   "display_name": "Python 3.9.7 (conda)",
   "language": "python",
   "name": "python3"
  },
  "language_info": {
   "codemirror_mode": {
    "name": "ipython",
    "version": 3
   },
   "file_extension": ".py",
   "mimetype": "text/x-python",
   "name": "python",
   "nbconvert_exporter": "python",
   "pygments_lexer": "ipython3",
   "version": "3.9.7"
  },
  "orig_nbformat": 4
 },
 "nbformat": 4,
 "nbformat_minor": 2
}
